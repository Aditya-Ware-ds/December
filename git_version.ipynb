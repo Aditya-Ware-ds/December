{
 "cells": [
  {
   "cell_type": "code",
   "execution_count": 1,
   "id": "c3b76ff6",
   "metadata": {},
   "outputs": [],
   "source": [
    "from ultralytics import YOLO\n",
    "import cv2\n",
    "import numpy as np"
   ]
  },
  {
   "cell_type": "code",
   "execution_count": 2,
   "id": "e7b84ac3",
   "metadata": {},
   "outputs": [],
   "source": [
    "model = YOLO(\"yolov8m-pose.pt\")"
   ]
  },
  {
   "cell_type": "code",
   "execution_count": 3,
   "id": "c64340ed",
   "metadata": {},
   "outputs": [],
   "source": [
    "cap = cv2.VideoCapture(0)"
   ]
  },
  {
   "cell_type": "code",
   "execution_count": 4,
   "id": "443708c7",
   "metadata": {},
   "outputs": [],
   "source": [
    "recording = False\n",
    "playing = False\n",
    "recorded_keypoints = []\n",
    "current_playback_index = 0\n",
    "frame_width, frame_height = 640, 480"
   ]
  },
  {
   "cell_type": "code",
   "execution_count": 6,
   "id": "292a07b8",
   "metadata": {},
   "outputs": [],
   "source": [
    "ret, frame = cap.read()\n",
    "if ret:\n",
    "    frame_height, frame_width = frame.shape[:2]"
   ]
  },
  {
   "cell_type": "code",
   "execution_count": 7,
   "id": "83228e48",
   "metadata": {},
   "outputs": [],
   "source": [
    "connections = [\n",
    "    [0, 1], [0, 2], [1, 3], [2, 4],                # Head\n",
    "    [5, 6], [5, 7], [7, 9], [6, 8], [8, 10],       # Arms\n",
    "    [11, 12], [5, 11], [6, 12],                    # Shoulders to hips\n",
    "    [11, 13], [13, 15], [12, 14], [14, 16]         # Legs\n",
    "]"
   ]
  },
  {
   "cell_type": "code",
   "execution_count": null,
   "id": "c57803e6",
   "metadata": {},
   "outputs": [],
   "source": [
    "while True:\n",
    "    if not playing:\n",
    "        # Live mode - capture frame\n",
    "        ret, frame = cap.read()\n",
    "        if not ret:\n",
    "            break\n",
    "            \n",
    "        # Run pose estimation\n",
    "        results = model(frame, device=0, verbose=False)\n",
    "        annotated_frame = results[0].plot()\n",
    "        \n",
    "        # If recording, store keypoints\n",
    "        if recording and results[0].keypoints is not None:\n",
    "            if len(results[0].keypoints.xy) > 0:\n",
    "                # Store first person's keypoints (normalized)\n",
    "                kpts = results[0].keypoints.xyn[0].cpu().numpy()\n",
    "                recorded_keypoints.append(kpts)\n",
    "            else:\n",
    "                recorded_keypoints.append(None)  # No person detected\n",
    "        \n",
    "        # Show recording status\n",
    "        if recording:\n",
    "            cv2.putText(annotated_frame, \"RECORDING\", (10, 30), \n",
    "                        cv2.FONT_HERSHEY_SIMPLEX, 1, (0, 0, 255), 2)\n",
    "            \n",
    "        cv2.imshow(\"YOLOv8 Pose Skeleton Mimic\", annotated_frame)\n",
    "    else:\n",
    "        # Playback mode - show recorded movements\n",
    "        if current_playback_index < len(recorded_keypoints):\n",
    "            # Create blank canvas\n",
    "            canvas = np.zeros((frame_height, frame_width, 3), dtype=np.uint8)\n",
    "            \n",
    "            # Get keypoints for current frame\n",
    "            kpts_norm = recorded_keypoints[current_playback_index]\n",
    "            \n",
    "            if kpts_norm is not None:\n",
    "                # Convert normalized coordinates to pixel values\n",
    "                kpts_pixel = (kpts_norm * (frame_width, frame_height)).astype(int)\n",
    "                \n",
    "                # Draw skeleton connections\n",
    "                for connection in connections:\n",
    "                    start_idx, end_idx = connection\n",
    "                    if 0 <= start_idx < 17 and 0 <= end_idx < 17:\n",
    "                        start = tuple(kpts_pixel[start_idx])\n",
    "                        end = tuple(kpts_pixel[end_idx])\n",
    "                        # Only draw if both points are valid\n",
    "                        if (0 < start[0] < frame_width and 0 < start[1] < frame_height and\n",
    "                            0 < end[0] < frame_width and 0 < end[1] < frame_height):\n",
    "                            cv2.line(canvas, start, end, (0, 255, 0), 2)\n",
    "                \n",
    "                # Draw keypoints\n",
    "                for kp in kpts_pixel:\n",
    "                    if 0 < kp[0] < frame_width and 0 < kp[1] < frame_height:\n",
    "                        cv2.circle(canvas, tuple(kp), 5, (0, 0, 255), -1)\n",
    "            \n",
    "            # Show playback status\n",
    "            cv2.putText(canvas, f\"PLAYBACK: {current_playback_index+1}/{len(recorded_keypoints)}\", \n",
    "                        (10, 30), cv2.FONT_HERSHEY_SIMPLEX, 1, (0, 255, 255), 2)\n",
    "            \n",
    "            cv2.imshow(\"YOLOv8 Pose Skeleton Mimic\", canvas)\n",
    "            current_playback_index += 1\n",
    "        else:\n",
    "            # End of playback\n",
    "            playing = False\n",
    "            current_playback_index = 0\n",
    "\n",
    "    # Key controls\n",
    "    key = cv2.waitKey(1) & 0xFF\n",
    "    if key == ord('q'):\n",
    "        break\n",
    "    elif key == ord('r'):\n",
    "        # Toggle recording\n",
    "        recording = not recording\n",
    "        if recording:\n",
    "            recorded_keypoints = []  # Clear previous recording\n",
    "            print(\"Recording started...\")\n",
    "        else:\n",
    "            print(f\"Recording finished. {len(recorded_keypoints)} frames captured.\")\n",
    "    elif key == ord('p'):\n",
    "        # Start playback if we have a recording\n",
    "        if recorded_keypoints:\n",
    "            playing = True\n",
    "            current_playback_index = 0\n",
    "            print(\"Starting playback...\")\n",
    "        else:\n",
    "            print(\"Record something first!\")"
   ]
  },
  {
   "cell_type": "code",
   "execution_count": null,
   "id": "bb76a3a5",
   "metadata": {},
   "outputs": [],
   "source": [
    "cap.release()\n",
    "cv2.destroyAllWindows()"
   ]
  }
 ],
 "metadata": {
  "kernelspec": {
   "display_name": "Python 3",
   "language": "python",
   "name": "python3"
  },
  "language_info": {
   "codemirror_mode": {
    "name": "ipython",
    "version": 3
   },
   "file_extension": ".py",
   "mimetype": "text/x-python",
   "name": "python",
   "nbconvert_exporter": "python",
   "pygments_lexer": "ipython3",
   "version": "3.13.2"
  }
 },
 "nbformat": 4,
 "nbformat_minor": 5
}
